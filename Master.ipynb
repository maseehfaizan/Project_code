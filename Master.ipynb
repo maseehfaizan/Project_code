{
 "cells": [
  {
   "cell_type": "markdown",
   "metadata": {},
   "source": [
    "# First I need to fetch weather data"
   ]
  },
  {
   "cell_type": "code",
   "execution_count": 23,
   "metadata": {},
   "outputs": [],
   "source": [
    "import requests\n",
    "from meteostat import Stations, Daily\n",
    "from geopy.geocoders import Nominatim\n",
    "from datetime import datetime\n",
    "import pandas as pd\n",
    "from bs4 import BeautifulSoup"
   ]
  },
  {
   "cell_type": "markdown",
   "metadata": {},
   "source": [
    "## Here is data using OpenWeatherMap. The problem here is that it doesn't allow me to fetch past weather data!! Only current and forecasting data"
   ]
  },
  {
   "cell_type": "code",
   "execution_count": 11,
   "metadata": {},
   "outputs": [
    {
     "name": "stdout",
     "output_type": "stream",
     "text": [
      "{'coord': {'lon': -0.1257, 'lat': 51.5085}, 'weather': [{'id': 803, 'main': 'Clouds', 'description': 'broken clouds', 'icon': '04d'}], 'base': 'stations', 'main': {'temp': 8.74, 'feels_like': 7.28, 'temp_min': 7.5, 'temp_max': 10.41, 'pressure': 1023, 'humidity': 73}, 'visibility': 10000, 'wind': {'speed': 2.57, 'deg': 40}, 'clouds': {'all': 67}, 'dt': 1713430061, 'sys': {'type': 2, 'id': 2075535, 'country': 'GB', 'sunrise': 1713416247, 'sunset': 1713466900}, 'timezone': 3600, 'id': 2643743, 'name': 'London', 'cod': 200}\n"
     ]
    }
   ],
   "source": [
    "def get_weather(api_key, city):\n",
    "    base_url = \"http://api.openweathermap.org/data/2.5/weather\"\n",
    "    params = {\n",
    "        'q': city,\n",
    "        'appid': api_key,\n",
    "        'units': 'metric'  # Change 'metric' to 'imperial' for Fahrenheit.\n",
    "    }\n",
    "    response = requests.get(base_url, params=params)\n",
    "    return response.json()\n",
    "\n",
    "api_key = '1d2e2d8a8a86aaf849b9ff04abbf5dc8'  # Replace 'your_api_key_here' with your actual API key\n",
    "city = 'London'  # You can change this to any city\n",
    "weather_data = get_weather(api_key, city)\n",
    "print(weather_data)"
   ]
  },
  {
   "cell_type": "markdown",
   "metadata": {},
   "source": [
    "## I have therefore installed meteostat which a free python library containing free data, given stationpoints around the world"
   ]
  },
  {
   "cell_type": "markdown",
   "metadata": {},
   "source": [
    "#### First I need a way to give the name of the city and get the Latitude and longitude data for that city\n",
    "\n",
    "I downloaded the data from: https://simplemaps.com/data/br-cities\n"
   ]
  },
  {
   "cell_type": "code",
   "execution_count": 51,
   "metadata": {},
   "outputs": [
    {
     "data": {
      "text/html": [
       "<div>\n",
       "<style scoped>\n",
       "    .dataframe tbody tr th:only-of-type {\n",
       "        vertical-align: middle;\n",
       "    }\n",
       "\n",
       "    .dataframe tbody tr th {\n",
       "        vertical-align: top;\n",
       "    }\n",
       "\n",
       "    .dataframe thead th {\n",
       "        text-align: right;\n",
       "    }\n",
       "</style>\n",
       "<table border=\"1\" class=\"dataframe\">\n",
       "  <thead>\n",
       "    <tr style=\"text-align: right;\">\n",
       "      <th></th>\n",
       "      <th>city</th>\n",
       "      <th>lat</th>\n",
       "      <th>lng</th>\n",
       "      <th>country</th>\n",
       "      <th>iso2</th>\n",
       "      <th>admin_name</th>\n",
       "      <th>capital</th>\n",
       "      <th>population</th>\n",
       "      <th>population_proper</th>\n",
       "    </tr>\n",
       "  </thead>\n",
       "  <tbody>\n",
       "    <tr>\n",
       "      <th>0</th>\n",
       "      <td>São Paulo</td>\n",
       "      <td>-23.5500</td>\n",
       "      <td>-46.6333</td>\n",
       "      <td>Brazil</td>\n",
       "      <td>BR</td>\n",
       "      <td>São Paulo</td>\n",
       "      <td>admin</td>\n",
       "      <td>23086000.0</td>\n",
       "      <td>12252023.0</td>\n",
       "    </tr>\n",
       "    <tr>\n",
       "      <th>1</th>\n",
       "      <td>Rio de Janeiro</td>\n",
       "      <td>-22.9111</td>\n",
       "      <td>-43.2056</td>\n",
       "      <td>Brazil</td>\n",
       "      <td>BR</td>\n",
       "      <td>Rio de Janeiro</td>\n",
       "      <td>admin</td>\n",
       "      <td>12592000.0</td>\n",
       "      <td>6520000.0</td>\n",
       "    </tr>\n",
       "    <tr>\n",
       "      <th>2</th>\n",
       "      <td>Belo Horizonte</td>\n",
       "      <td>-19.9167</td>\n",
       "      <td>-43.9333</td>\n",
       "      <td>Brazil</td>\n",
       "      <td>BR</td>\n",
       "      <td>Minas Gerais</td>\n",
       "      <td>admin</td>\n",
       "      <td>5328000.0</td>\n",
       "      <td>2502557.0</td>\n",
       "    </tr>\n",
       "    <tr>\n",
       "      <th>3</th>\n",
       "      <td>Fortaleza</td>\n",
       "      <td>-3.7275</td>\n",
       "      <td>-38.5275</td>\n",
       "      <td>Brazil</td>\n",
       "      <td>BR</td>\n",
       "      <td>Ceará</td>\n",
       "      <td>admin</td>\n",
       "      <td>4167996.0</td>\n",
       "      <td>2703391.0</td>\n",
       "    </tr>\n",
       "    <tr>\n",
       "      <th>4</th>\n",
       "      <td>Brasília</td>\n",
       "      <td>-15.7939</td>\n",
       "      <td>-47.8828</td>\n",
       "      <td>Brazil</td>\n",
       "      <td>BR</td>\n",
       "      <td>Distrito Federal</td>\n",
       "      <td>primary</td>\n",
       "      <td>2817068.0</td>\n",
       "      <td>2817068.0</td>\n",
       "    </tr>\n",
       "  </tbody>\n",
       "</table>\n",
       "</div>"
      ],
      "text/plain": [
       "             city      lat      lng country iso2        admin_name  capital  \\\n",
       "0       São Paulo -23.5500 -46.6333  Brazil   BR         São Paulo    admin   \n",
       "1  Rio de Janeiro -22.9111 -43.2056  Brazil   BR    Rio de Janeiro    admin   \n",
       "2  Belo Horizonte -19.9167 -43.9333  Brazil   BR      Minas Gerais    admin   \n",
       "3       Fortaleza  -3.7275 -38.5275  Brazil   BR             Ceará    admin   \n",
       "4        Brasília -15.7939 -47.8828  Brazil   BR  Distrito Federal  primary   \n",
       "\n",
       "   population  population_proper  \n",
       "0  23086000.0         12252023.0  \n",
       "1  12592000.0          6520000.0  \n",
       "2   5328000.0          2502557.0  \n",
       "3   4167996.0          2703391.0  \n",
       "4   2817068.0          2817068.0  "
      ]
     },
     "execution_count": 51,
     "metadata": {},
     "output_type": "execute_result"
    }
   ],
   "source": [
    "cities = pd.read_csv('./br.csv')\n",
    "cities.head()"
   ]
  },
  {
   "cell_type": "code",
   "execution_count": null,
   "metadata": {},
   "outputs": [],
   "source": [
    "# Set time period\n",
    "start = datetime(2022, 1, 1)\n",
    "end = datetime(2022, 12, 30)\n",
    "\n",
    "# Get weather station data (e.g., for New York)\n",
    "stations = Stations()\n",
    "stations = stations.nearby(40.7128, -74.0060)  # Latitude and longitude for New York\n",
    "station = stations.fetch(1)  # Fetch closest station\n",
    "\n",
    "# Fetch daily historical data for the specified station and time period\n",
    "data = Daily(station, start, end)\n",
    "data = data.fetch()\n",
    "\n",
    "print(data)"
   ]
  }
 ],
 "metadata": {
  "kernelspec": {
   "display_name": "Python 3",
   "language": "python",
   "name": "python3"
  },
  "language_info": {
   "codemirror_mode": {
    "name": "ipython",
    "version": 3
   },
   "file_extension": ".py",
   "mimetype": "text/x-python",
   "name": "python",
   "nbconvert_exporter": "python",
   "pygments_lexer": "ipython3",
   "version": "3.12.2"
  }
 },
 "nbformat": 4,
 "nbformat_minor": 2
}
